{
 "cells": [
  {
   "cell_type": "code",
   "execution_count": 1,
   "metadata": {},
   "outputs": [
    {
     "name": "stdout",
     "output_type": "stream",
     "text": [
      "ok\n"
     ]
    }
   ],
   "source": [
    "import pandas as pd\n",
    "import plotly.graph_objs as go\n",
    "import dash\n",
    "import dash_core_components as dcc\n",
    "import dash_html_components as html\n",
    "from dash.dependencies import Input, Output\n",
    "from jupyter_plotly_dash import JupyterDash\n",
    "import time\n",
    "print('ok')"
   ]
  },
  {
   "cell_type": "code",
   "execution_count": 68,
   "metadata": {},
   "outputs": [
    {
     "data": {
      "text/html": [
       "<div>\n",
       "  <iframe src=\"/app/endpoints/05cc4b1a7bf947e39ba3b262a3411f88/\" width=800 height=600 frameborder=\"0\"></iframe>\n",
       "  <hr/><a href=\"/app/endpoints/05cc4b1a7bf947e39ba3b262a3411f88/\" target=\"_new\">Open in new window</a> for /app/endpoints/05cc4b1a7bf947e39ba3b262a3411f88/\n",
       "</div>"
      ],
      "text/plain": [
       "<jupyter_plotly_dash.dash_wrapper.JupyterDash at 0x220af7e4710>"
      ]
     },
     "execution_count": 68,
     "metadata": {},
     "output_type": "execute_result"
    }
   ],
   "source": [
    "app = JupyterDash('Dash Layout')\n",
    "\n",
    "app.layout = html.Div([\n",
    "    dcc.Input(id = 'my-id', value = '初始值', type = 'text'),\n",
    "    html.Div(id = 'my-div')\n",
    "])\n",
    "\n",
    "@app.callback(\n",
    "    Output(component_id = 'my-div', component_property = 'children'),\n",
    "    [Input(component_id = 'my-id', component_property = 'value')]\n",
    ")\n",
    "\n",
    "def update_output_div(input_value):\n",
    "    return '你输入了\"{}\"'.format(input_value)\n",
    "\n",
    "app"
   ]
  },
  {
   "cell_type": "code",
   "execution_count": null,
   "metadata": {},
   "outputs": [],
   "source": [
    "# 数据源\n",
    "df = pd.read_csv(\n",
    "    'https://raw.githubusercontent.com/plotly/'\n",
    "    'datasets/master/gapminderDataFiveYear.csv')\n",
    "\n",
    "# 设置Dash应用程序\n",
    "app = JupyterDash('Slider Update Gragh')\n",
    "app.layout = html.Div([\n",
    "    dcc.Graph(id = 'graph-with-slider'),\n",
    "    dcc.Slider(\n",
    "        id = 'year-slider',\n",
    "        min = df.year.min(),\n",
    "        max = df.year.max(),\n",
    "        value = df.year.min(),\n",
    "        marks = {str(year): str(year) for year in df.year.unique()},\n",
    "        step = None\n",
    "    )\n",
    "])\n",
    "\n",
    "# 回调函数\n",
    "@app.callback(\n",
    "    Output('graph-with-slider', 'figure'),\n",
    "    [Input('year-slider', 'value')]\n",
    ")\n",
    "\n",
    "# 设置布局\n",
    "def update_figure(selected_year):\n",
    "    filtered_df = df[df.year == selected_year]\n",
    "    traces = []\n",
    "    \n",
    "    for val in filtered_df.continent.unique():\n",
    "        df_by_continent = filtered_df[filtered_df.continent == val]\n",
    "        \n",
    "        traces.append(go.Scatter(\n",
    "            x = df_by_continent['gdpPercap'],\n",
    "            y = df_by_continent['lifeExp'],\n",
    "            text = df_by_continent['country'],\n",
    "            name = val,\n",
    "            mode = 'markers',\n",
    "            opacity = 0.8,\n",
    "            marker = dict(size = 15, line = dict(width = 0.5, color = 'white'))\n",
    "        ))\n",
    "    \n",
    "    fig = dict(\n",
    "        data = traces,\n",
    "        layout = go.Layout(\n",
    "            xaxis = dict(type = 'log', title = '人均GDP'),\n",
    "            yaxis = dict(title = '平均寿命', range = [20, 90]),\n",
    "            margin = dict(l = 40, b = 40, t = 10, r = 10),\n",
    "            hovermode = 'closest'\n",
    "        )\n",
    "    )\n",
    "    \n",
    "    return fig\n",
    "\n",
    "app"
   ]
  },
  {
   "cell_type": "code",
   "execution_count": 69,
   "metadata": {},
   "outputs": [
    {
     "ename": "URLError",
     "evalue": "<urlopen error [WinError 10054] 远程主机强迫关闭了一个现有的连接。>",
     "output_type": "error",
     "traceback": [
      "\u001b[1;31m---------------------------------------------------------------------------\u001b[0m",
      "\u001b[1;31mConnectionResetError\u001b[0m                      Traceback (most recent call last)",
      "\u001b[1;32mC:\\ProgramData\\Anaconda3\\lib\\urllib\\request.py\u001b[0m in \u001b[0;36mdo_open\u001b[1;34m(self, http_class, req, **http_conn_args)\u001b[0m\n\u001b[0;32m   1316\u001b[0m                 h.request(req.get_method(), req.selector, req.data, headers,\n\u001b[1;32m-> 1317\u001b[1;33m                           encode_chunked=req.has_header('Transfer-encoding'))\n\u001b[0m\u001b[0;32m   1318\u001b[0m             \u001b[1;32mexcept\u001b[0m \u001b[0mOSError\u001b[0m \u001b[1;32mas\u001b[0m \u001b[0merr\u001b[0m\u001b[1;33m:\u001b[0m \u001b[1;31m# timeout error\u001b[0m\u001b[1;33m\u001b[0m\u001b[0m\n",
      "\u001b[1;32mC:\\ProgramData\\Anaconda3\\lib\\http\\client.py\u001b[0m in \u001b[0;36mrequest\u001b[1;34m(self, method, url, body, headers, encode_chunked)\u001b[0m\n\u001b[0;32m   1228\u001b[0m         \u001b[1;34m\"\"\"Send a complete request to the server.\"\"\"\u001b[0m\u001b[1;33m\u001b[0m\u001b[0m\n\u001b[1;32m-> 1229\u001b[1;33m         \u001b[0mself\u001b[0m\u001b[1;33m.\u001b[0m\u001b[0m_send_request\u001b[0m\u001b[1;33m(\u001b[0m\u001b[0mmethod\u001b[0m\u001b[1;33m,\u001b[0m \u001b[0murl\u001b[0m\u001b[1;33m,\u001b[0m \u001b[0mbody\u001b[0m\u001b[1;33m,\u001b[0m \u001b[0mheaders\u001b[0m\u001b[1;33m,\u001b[0m \u001b[0mencode_chunked\u001b[0m\u001b[1;33m)\u001b[0m\u001b[1;33m\u001b[0m\u001b[0m\n\u001b[0m\u001b[0;32m   1230\u001b[0m \u001b[1;33m\u001b[0m\u001b[0m\n",
      "\u001b[1;32mC:\\ProgramData\\Anaconda3\\lib\\http\\client.py\u001b[0m in \u001b[0;36m_send_request\u001b[1;34m(self, method, url, body, headers, encode_chunked)\u001b[0m\n\u001b[0;32m   1274\u001b[0m             \u001b[0mbody\u001b[0m \u001b[1;33m=\u001b[0m \u001b[0m_encode\u001b[0m\u001b[1;33m(\u001b[0m\u001b[0mbody\u001b[0m\u001b[1;33m,\u001b[0m \u001b[1;34m'body'\u001b[0m\u001b[1;33m)\u001b[0m\u001b[1;33m\u001b[0m\u001b[0m\n\u001b[1;32m-> 1275\u001b[1;33m         \u001b[0mself\u001b[0m\u001b[1;33m.\u001b[0m\u001b[0mendheaders\u001b[0m\u001b[1;33m(\u001b[0m\u001b[0mbody\u001b[0m\u001b[1;33m,\u001b[0m \u001b[0mencode_chunked\u001b[0m\u001b[1;33m=\u001b[0m\u001b[0mencode_chunked\u001b[0m\u001b[1;33m)\u001b[0m\u001b[1;33m\u001b[0m\u001b[0m\n\u001b[0m\u001b[0;32m   1276\u001b[0m \u001b[1;33m\u001b[0m\u001b[0m\n",
      "\u001b[1;32mC:\\ProgramData\\Anaconda3\\lib\\http\\client.py\u001b[0m in \u001b[0;36mendheaders\u001b[1;34m(self, message_body, encode_chunked)\u001b[0m\n\u001b[0;32m   1223\u001b[0m             \u001b[1;32mraise\u001b[0m \u001b[0mCannotSendHeader\u001b[0m\u001b[1;33m(\u001b[0m\u001b[1;33m)\u001b[0m\u001b[1;33m\u001b[0m\u001b[0m\n\u001b[1;32m-> 1224\u001b[1;33m         \u001b[0mself\u001b[0m\u001b[1;33m.\u001b[0m\u001b[0m_send_output\u001b[0m\u001b[1;33m(\u001b[0m\u001b[0mmessage_body\u001b[0m\u001b[1;33m,\u001b[0m \u001b[0mencode_chunked\u001b[0m\u001b[1;33m=\u001b[0m\u001b[0mencode_chunked\u001b[0m\u001b[1;33m)\u001b[0m\u001b[1;33m\u001b[0m\u001b[0m\n\u001b[0m\u001b[0;32m   1225\u001b[0m \u001b[1;33m\u001b[0m\u001b[0m\n",
      "\u001b[1;32mC:\\ProgramData\\Anaconda3\\lib\\http\\client.py\u001b[0m in \u001b[0;36m_send_output\u001b[1;34m(self, message_body, encode_chunked)\u001b[0m\n\u001b[0;32m   1015\u001b[0m         \u001b[1;32mdel\u001b[0m \u001b[0mself\u001b[0m\u001b[1;33m.\u001b[0m\u001b[0m_buffer\u001b[0m\u001b[1;33m[\u001b[0m\u001b[1;33m:\u001b[0m\u001b[1;33m]\u001b[0m\u001b[1;33m\u001b[0m\u001b[0m\n\u001b[1;32m-> 1016\u001b[1;33m         \u001b[0mself\u001b[0m\u001b[1;33m.\u001b[0m\u001b[0msend\u001b[0m\u001b[1;33m(\u001b[0m\u001b[0mmsg\u001b[0m\u001b[1;33m)\u001b[0m\u001b[1;33m\u001b[0m\u001b[0m\n\u001b[0m\u001b[0;32m   1017\u001b[0m \u001b[1;33m\u001b[0m\u001b[0m\n",
      "\u001b[1;32mC:\\ProgramData\\Anaconda3\\lib\\http\\client.py\u001b[0m in \u001b[0;36msend\u001b[1;34m(self, data)\u001b[0m\n\u001b[0;32m    955\u001b[0m             \u001b[1;32mif\u001b[0m \u001b[0mself\u001b[0m\u001b[1;33m.\u001b[0m\u001b[0mauto_open\u001b[0m\u001b[1;33m:\u001b[0m\u001b[1;33m\u001b[0m\u001b[0m\n\u001b[1;32m--> 956\u001b[1;33m                 \u001b[0mself\u001b[0m\u001b[1;33m.\u001b[0m\u001b[0mconnect\u001b[0m\u001b[1;33m(\u001b[0m\u001b[1;33m)\u001b[0m\u001b[1;33m\u001b[0m\u001b[0m\n\u001b[0m\u001b[0;32m    957\u001b[0m             \u001b[1;32melse\u001b[0m\u001b[1;33m:\u001b[0m\u001b[1;33m\u001b[0m\u001b[0m\n",
      "\u001b[1;32mC:\\ProgramData\\Anaconda3\\lib\\http\\client.py\u001b[0m in \u001b[0;36mconnect\u001b[1;34m(self)\u001b[0m\n\u001b[0;32m   1391\u001b[0m             self.sock = self._context.wrap_socket(self.sock,\n\u001b[1;32m-> 1392\u001b[1;33m                                                   server_hostname=server_hostname)\n\u001b[0m\u001b[0;32m   1393\u001b[0m \u001b[1;33m\u001b[0m\u001b[0m\n",
      "\u001b[1;32mC:\\ProgramData\\Anaconda3\\lib\\ssl.py\u001b[0m in \u001b[0;36mwrap_socket\u001b[1;34m(self, sock, server_side, do_handshake_on_connect, suppress_ragged_eofs, server_hostname, session)\u001b[0m\n\u001b[0;32m    411\u001b[0m             \u001b[0mcontext\u001b[0m\u001b[1;33m=\u001b[0m\u001b[0mself\u001b[0m\u001b[1;33m,\u001b[0m\u001b[1;33m\u001b[0m\u001b[0m\n\u001b[1;32m--> 412\u001b[1;33m             \u001b[0msession\u001b[0m\u001b[1;33m=\u001b[0m\u001b[0msession\u001b[0m\u001b[1;33m\u001b[0m\u001b[0m\n\u001b[0m\u001b[0;32m    413\u001b[0m         )\n",
      "\u001b[1;32mC:\\ProgramData\\Anaconda3\\lib\\ssl.py\u001b[0m in \u001b[0;36m_create\u001b[1;34m(cls, sock, server_side, do_handshake_on_connect, suppress_ragged_eofs, server_hostname, context, session)\u001b[0m\n\u001b[0;32m    849\u001b[0m                         \u001b[1;32mraise\u001b[0m \u001b[0mValueError\u001b[0m\u001b[1;33m(\u001b[0m\u001b[1;34m\"do_handshake_on_connect should not be specified for non-blocking sockets\"\u001b[0m\u001b[1;33m)\u001b[0m\u001b[1;33m\u001b[0m\u001b[0m\n\u001b[1;32m--> 850\u001b[1;33m                     \u001b[0mself\u001b[0m\u001b[1;33m.\u001b[0m\u001b[0mdo_handshake\u001b[0m\u001b[1;33m(\u001b[0m\u001b[1;33m)\u001b[0m\u001b[1;33m\u001b[0m\u001b[0m\n\u001b[0m\u001b[0;32m    851\u001b[0m             \u001b[1;32mexcept\u001b[0m \u001b[1;33m(\u001b[0m\u001b[0mOSError\u001b[0m\u001b[1;33m,\u001b[0m \u001b[0mValueError\u001b[0m\u001b[1;33m)\u001b[0m\u001b[1;33m:\u001b[0m\u001b[1;33m\u001b[0m\u001b[0m\n",
      "\u001b[1;32mC:\\ProgramData\\Anaconda3\\lib\\ssl.py\u001b[0m in \u001b[0;36mdo_handshake\u001b[1;34m(self, block)\u001b[0m\n\u001b[0;32m   1107\u001b[0m                 \u001b[0mself\u001b[0m\u001b[1;33m.\u001b[0m\u001b[0msettimeout\u001b[0m\u001b[1;33m(\u001b[0m\u001b[1;32mNone\u001b[0m\u001b[1;33m)\u001b[0m\u001b[1;33m\u001b[0m\u001b[0m\n\u001b[1;32m-> 1108\u001b[1;33m             \u001b[0mself\u001b[0m\u001b[1;33m.\u001b[0m\u001b[0m_sslobj\u001b[0m\u001b[1;33m.\u001b[0m\u001b[0mdo_handshake\u001b[0m\u001b[1;33m(\u001b[0m\u001b[1;33m)\u001b[0m\u001b[1;33m\u001b[0m\u001b[0m\n\u001b[0m\u001b[0;32m   1109\u001b[0m         \u001b[1;32mfinally\u001b[0m\u001b[1;33m:\u001b[0m\u001b[1;33m\u001b[0m\u001b[0m\n",
      "\u001b[1;31mConnectionResetError\u001b[0m: [WinError 10054] 远程主机强迫关闭了一个现有的连接。",
      "\nDuring handling of the above exception, another exception occurred:\n",
      "\u001b[1;31mURLError\u001b[0m                                  Traceback (most recent call last)",
      "\u001b[1;32m~\\AppData\\Local\\Temp/ipykernel_284556/2893700826.py\u001b[0m in \u001b[0;36m<module>\u001b[1;34m\u001b[0m\n\u001b[0;32m      1\u001b[0m \u001b[1;31m# 数据\u001b[0m\u001b[1;33m\u001b[0m\u001b[1;33m\u001b[0m\u001b[0m\n\u001b[0;32m      2\u001b[0m df = pd.read_csv(\n\u001b[1;32m----> 3\u001b[1;33m     \u001b[1;34m'https://gist.githubusercontent.com/chriddyp/'\u001b[0m\u001b[1;33m\u001b[0m\u001b[0m\n\u001b[0m\u001b[0;32m      4\u001b[0m     \u001b[1;34m'cb5392c35661370d95f300086accea51/raw/'\u001b[0m\u001b[1;33m\u001b[0m\u001b[0m\n\u001b[0;32m      5\u001b[0m     \u001b[1;34m'8e0768211f6b747c0db42a9ce9a0937dafcbd8b2/'\u001b[0m\u001b[1;33m\u001b[0m\u001b[0m\n",
      "\u001b[1;32mC:\\ProgramData\\Anaconda3\\lib\\site-packages\\pandas\\io\\parsers.py\u001b[0m in \u001b[0;36mparser_f\u001b[1;34m(filepath_or_buffer, sep, delimiter, header, names, index_col, usecols, squeeze, prefix, mangle_dupe_cols, dtype, engine, converters, true_values, false_values, skipinitialspace, skiprows, nrows, na_values, keep_default_na, na_filter, verbose, skip_blank_lines, parse_dates, infer_datetime_format, keep_date_col, date_parser, dayfirst, iterator, chunksize, compression, thousands, decimal, lineterminator, quotechar, quoting, escapechar, comment, encoding, dialect, tupleize_cols, error_bad_lines, warn_bad_lines, skipfooter, doublequote, delim_whitespace, low_memory, memory_map, float_precision)\u001b[0m\n\u001b[0;32m    676\u001b[0m                     skip_blank_lines=skip_blank_lines)\n\u001b[0;32m    677\u001b[0m \u001b[1;33m\u001b[0m\u001b[0m\n\u001b[1;32m--> 678\u001b[1;33m         \u001b[1;32mreturn\u001b[0m \u001b[0m_read\u001b[0m\u001b[1;33m(\u001b[0m\u001b[0mfilepath_or_buffer\u001b[0m\u001b[1;33m,\u001b[0m \u001b[0mkwds\u001b[0m\u001b[1;33m)\u001b[0m\u001b[1;33m\u001b[0m\u001b[0m\n\u001b[0m\u001b[0;32m    679\u001b[0m \u001b[1;33m\u001b[0m\u001b[0m\n\u001b[0;32m    680\u001b[0m     \u001b[0mparser_f\u001b[0m\u001b[1;33m.\u001b[0m\u001b[0m__name__\u001b[0m \u001b[1;33m=\u001b[0m \u001b[0mname\u001b[0m\u001b[1;33m\u001b[0m\u001b[0m\n",
      "\u001b[1;32mC:\\ProgramData\\Anaconda3\\lib\\site-packages\\pandas\\io\\parsers.py\u001b[0m in \u001b[0;36m_read\u001b[1;34m(filepath_or_buffer, kwds)\u001b[0m\n\u001b[0;32m    422\u001b[0m     \u001b[0mcompression\u001b[0m \u001b[1;33m=\u001b[0m \u001b[0m_infer_compression\u001b[0m\u001b[1;33m(\u001b[0m\u001b[0mfilepath_or_buffer\u001b[0m\u001b[1;33m,\u001b[0m \u001b[0mcompression\u001b[0m\u001b[1;33m)\u001b[0m\u001b[1;33m\u001b[0m\u001b[0m\n\u001b[0;32m    423\u001b[0m     filepath_or_buffer, _, compression, should_close = get_filepath_or_buffer(\n\u001b[1;32m--> 424\u001b[1;33m         filepath_or_buffer, encoding, compression)\n\u001b[0m\u001b[0;32m    425\u001b[0m     \u001b[0mkwds\u001b[0m\u001b[1;33m[\u001b[0m\u001b[1;34m'compression'\u001b[0m\u001b[1;33m]\u001b[0m \u001b[1;33m=\u001b[0m \u001b[0mcompression\u001b[0m\u001b[1;33m\u001b[0m\u001b[0m\n\u001b[0;32m    426\u001b[0m \u001b[1;33m\u001b[0m\u001b[0m\n",
      "\u001b[1;32mC:\\ProgramData\\Anaconda3\\lib\\site-packages\\pandas\\io\\common.py\u001b[0m in \u001b[0;36mget_filepath_or_buffer\u001b[1;34m(filepath_or_buffer, encoding, compression, mode)\u001b[0m\n\u001b[0;32m    193\u001b[0m \u001b[1;33m\u001b[0m\u001b[0m\n\u001b[0;32m    194\u001b[0m     \u001b[1;32mif\u001b[0m \u001b[0m_is_url\u001b[0m\u001b[1;33m(\u001b[0m\u001b[0mfilepath_or_buffer\u001b[0m\u001b[1;33m)\u001b[0m\u001b[1;33m:\u001b[0m\u001b[1;33m\u001b[0m\u001b[0m\n\u001b[1;32m--> 195\u001b[1;33m         \u001b[0mreq\u001b[0m \u001b[1;33m=\u001b[0m \u001b[0m_urlopen\u001b[0m\u001b[1;33m(\u001b[0m\u001b[0mfilepath_or_buffer\u001b[0m\u001b[1;33m)\u001b[0m\u001b[1;33m\u001b[0m\u001b[0m\n\u001b[0m\u001b[0;32m    196\u001b[0m         \u001b[0mcontent_encoding\u001b[0m \u001b[1;33m=\u001b[0m \u001b[0mreq\u001b[0m\u001b[1;33m.\u001b[0m\u001b[0mheaders\u001b[0m\u001b[1;33m.\u001b[0m\u001b[0mget\u001b[0m\u001b[1;33m(\u001b[0m\u001b[1;34m'Content-Encoding'\u001b[0m\u001b[1;33m,\u001b[0m \u001b[1;32mNone\u001b[0m\u001b[1;33m)\u001b[0m\u001b[1;33m\u001b[0m\u001b[0m\n\u001b[0;32m    197\u001b[0m         \u001b[1;32mif\u001b[0m \u001b[0mcontent_encoding\u001b[0m \u001b[1;33m==\u001b[0m \u001b[1;34m'gzip'\u001b[0m\u001b[1;33m:\u001b[0m\u001b[1;33m\u001b[0m\u001b[0m\n",
      "\u001b[1;32mC:\\ProgramData\\Anaconda3\\lib\\urllib\\request.py\u001b[0m in \u001b[0;36murlopen\u001b[1;34m(url, data, timeout, cafile, capath, cadefault, context)\u001b[0m\n\u001b[0;32m    220\u001b[0m     \u001b[1;32melse\u001b[0m\u001b[1;33m:\u001b[0m\u001b[1;33m\u001b[0m\u001b[0m\n\u001b[0;32m    221\u001b[0m         \u001b[0mopener\u001b[0m \u001b[1;33m=\u001b[0m \u001b[0m_opener\u001b[0m\u001b[1;33m\u001b[0m\u001b[0m\n\u001b[1;32m--> 222\u001b[1;33m     \u001b[1;32mreturn\u001b[0m \u001b[0mopener\u001b[0m\u001b[1;33m.\u001b[0m\u001b[0mopen\u001b[0m\u001b[1;33m(\u001b[0m\u001b[0murl\u001b[0m\u001b[1;33m,\u001b[0m \u001b[0mdata\u001b[0m\u001b[1;33m,\u001b[0m \u001b[0mtimeout\u001b[0m\u001b[1;33m)\u001b[0m\u001b[1;33m\u001b[0m\u001b[0m\n\u001b[0m\u001b[0;32m    223\u001b[0m \u001b[1;33m\u001b[0m\u001b[0m\n\u001b[0;32m    224\u001b[0m \u001b[1;32mdef\u001b[0m \u001b[0minstall_opener\u001b[0m\u001b[1;33m(\u001b[0m\u001b[0mopener\u001b[0m\u001b[1;33m)\u001b[0m\u001b[1;33m:\u001b[0m\u001b[1;33m\u001b[0m\u001b[0m\n",
      "\u001b[1;32mC:\\ProgramData\\Anaconda3\\lib\\urllib\\request.py\u001b[0m in \u001b[0;36mopen\u001b[1;34m(self, fullurl, data, timeout)\u001b[0m\n\u001b[0;32m    523\u001b[0m             \u001b[0mreq\u001b[0m \u001b[1;33m=\u001b[0m \u001b[0mmeth\u001b[0m\u001b[1;33m(\u001b[0m\u001b[0mreq\u001b[0m\u001b[1;33m)\u001b[0m\u001b[1;33m\u001b[0m\u001b[0m\n\u001b[0;32m    524\u001b[0m \u001b[1;33m\u001b[0m\u001b[0m\n\u001b[1;32m--> 525\u001b[1;33m         \u001b[0mresponse\u001b[0m \u001b[1;33m=\u001b[0m \u001b[0mself\u001b[0m\u001b[1;33m.\u001b[0m\u001b[0m_open\u001b[0m\u001b[1;33m(\u001b[0m\u001b[0mreq\u001b[0m\u001b[1;33m,\u001b[0m \u001b[0mdata\u001b[0m\u001b[1;33m)\u001b[0m\u001b[1;33m\u001b[0m\u001b[0m\n\u001b[0m\u001b[0;32m    526\u001b[0m \u001b[1;33m\u001b[0m\u001b[0m\n\u001b[0;32m    527\u001b[0m         \u001b[1;31m# post-process response\u001b[0m\u001b[1;33m\u001b[0m\u001b[1;33m\u001b[0m\u001b[0m\n",
      "\u001b[1;32mC:\\ProgramData\\Anaconda3\\lib\\urllib\\request.py\u001b[0m in \u001b[0;36m_open\u001b[1;34m(self, req, data)\u001b[0m\n\u001b[0;32m    541\u001b[0m         \u001b[0mprotocol\u001b[0m \u001b[1;33m=\u001b[0m \u001b[0mreq\u001b[0m\u001b[1;33m.\u001b[0m\u001b[0mtype\u001b[0m\u001b[1;33m\u001b[0m\u001b[0m\n\u001b[0;32m    542\u001b[0m         result = self._call_chain(self.handle_open, protocol, protocol +\n\u001b[1;32m--> 543\u001b[1;33m                                   '_open', req)\n\u001b[0m\u001b[0;32m    544\u001b[0m         \u001b[1;32mif\u001b[0m \u001b[0mresult\u001b[0m\u001b[1;33m:\u001b[0m\u001b[1;33m\u001b[0m\u001b[0m\n\u001b[0;32m    545\u001b[0m             \u001b[1;32mreturn\u001b[0m \u001b[0mresult\u001b[0m\u001b[1;33m\u001b[0m\u001b[0m\n",
      "\u001b[1;32mC:\\ProgramData\\Anaconda3\\lib\\urllib\\request.py\u001b[0m in \u001b[0;36m_call_chain\u001b[1;34m(self, chain, kind, meth_name, *args)\u001b[0m\n\u001b[0;32m    501\u001b[0m         \u001b[1;32mfor\u001b[0m \u001b[0mhandler\u001b[0m \u001b[1;32min\u001b[0m \u001b[0mhandlers\u001b[0m\u001b[1;33m:\u001b[0m\u001b[1;33m\u001b[0m\u001b[0m\n\u001b[0;32m    502\u001b[0m             \u001b[0mfunc\u001b[0m \u001b[1;33m=\u001b[0m \u001b[0mgetattr\u001b[0m\u001b[1;33m(\u001b[0m\u001b[0mhandler\u001b[0m\u001b[1;33m,\u001b[0m \u001b[0mmeth_name\u001b[0m\u001b[1;33m)\u001b[0m\u001b[1;33m\u001b[0m\u001b[0m\n\u001b[1;32m--> 503\u001b[1;33m             \u001b[0mresult\u001b[0m \u001b[1;33m=\u001b[0m \u001b[0mfunc\u001b[0m\u001b[1;33m(\u001b[0m\u001b[1;33m*\u001b[0m\u001b[0margs\u001b[0m\u001b[1;33m)\u001b[0m\u001b[1;33m\u001b[0m\u001b[0m\n\u001b[0m\u001b[0;32m    504\u001b[0m             \u001b[1;32mif\u001b[0m \u001b[0mresult\u001b[0m \u001b[1;32mis\u001b[0m \u001b[1;32mnot\u001b[0m \u001b[1;32mNone\u001b[0m\u001b[1;33m:\u001b[0m\u001b[1;33m\u001b[0m\u001b[0m\n\u001b[0;32m    505\u001b[0m                 \u001b[1;32mreturn\u001b[0m \u001b[0mresult\u001b[0m\u001b[1;33m\u001b[0m\u001b[0m\n",
      "\u001b[1;32mC:\\ProgramData\\Anaconda3\\lib\\urllib\\request.py\u001b[0m in \u001b[0;36mhttps_open\u001b[1;34m(self, req)\u001b[0m\n\u001b[0;32m   1358\u001b[0m         \u001b[1;32mdef\u001b[0m \u001b[0mhttps_open\u001b[0m\u001b[1;33m(\u001b[0m\u001b[0mself\u001b[0m\u001b[1;33m,\u001b[0m \u001b[0mreq\u001b[0m\u001b[1;33m)\u001b[0m\u001b[1;33m:\u001b[0m\u001b[1;33m\u001b[0m\u001b[0m\n\u001b[0;32m   1359\u001b[0m             return self.do_open(http.client.HTTPSConnection, req,\n\u001b[1;32m-> 1360\u001b[1;33m                 context=self._context, check_hostname=self._check_hostname)\n\u001b[0m\u001b[0;32m   1361\u001b[0m \u001b[1;33m\u001b[0m\u001b[0m\n\u001b[0;32m   1362\u001b[0m         \u001b[0mhttps_request\u001b[0m \u001b[1;33m=\u001b[0m \u001b[0mAbstractHTTPHandler\u001b[0m\u001b[1;33m.\u001b[0m\u001b[0mdo_request_\u001b[0m\u001b[1;33m\u001b[0m\u001b[0m\n",
      "\u001b[1;32mC:\\ProgramData\\Anaconda3\\lib\\urllib\\request.py\u001b[0m in \u001b[0;36mdo_open\u001b[1;34m(self, http_class, req, **http_conn_args)\u001b[0m\n\u001b[0;32m   1317\u001b[0m                           encode_chunked=req.has_header('Transfer-encoding'))\n\u001b[0;32m   1318\u001b[0m             \u001b[1;32mexcept\u001b[0m \u001b[0mOSError\u001b[0m \u001b[1;32mas\u001b[0m \u001b[0merr\u001b[0m\u001b[1;33m:\u001b[0m \u001b[1;31m# timeout error\u001b[0m\u001b[1;33m\u001b[0m\u001b[0m\n\u001b[1;32m-> 1319\u001b[1;33m                 \u001b[1;32mraise\u001b[0m \u001b[0mURLError\u001b[0m\u001b[1;33m(\u001b[0m\u001b[0merr\u001b[0m\u001b[1;33m)\u001b[0m\u001b[1;33m\u001b[0m\u001b[0m\n\u001b[0m\u001b[0;32m   1320\u001b[0m             \u001b[0mr\u001b[0m \u001b[1;33m=\u001b[0m \u001b[0mh\u001b[0m\u001b[1;33m.\u001b[0m\u001b[0mgetresponse\u001b[0m\u001b[1;33m(\u001b[0m\u001b[1;33m)\u001b[0m\u001b[1;33m\u001b[0m\u001b[0m\n\u001b[0;32m   1321\u001b[0m         \u001b[1;32mexcept\u001b[0m\u001b[1;33m:\u001b[0m\u001b[1;33m\u001b[0m\u001b[0m\n",
      "\u001b[1;31mURLError\u001b[0m: <urlopen error [WinError 10054] 远程主机强迫关闭了一个现有的连接。>"
     ]
    }
   ],
   "source": [
    "# 数据\n",
    "df = pd.read_csv(\n",
    "    'https://gist.githubusercontent.com/chriddyp/'\n",
    "    'cb5392c35661370d95f300086accea51/raw/'\n",
    "    '8e0768211f6b747c0db42a9ce9a0937dafcbd8b2/'\n",
    "    'indicators.csv')\n",
    "\n",
    "# 设置Dash\n",
    "app = JupyterDash('many input')\n",
    "app.layout = html.Div([\n",
    "    html.Div([\n",
    "        html.Div([\n",
    "            dcc.Dropdown(\n",
    "                id = 'xaxis-column',\n",
    "                options = [{'label': i, 'value': i} for i in df['Indicator Name'].unique()],\n",
    "                value = 'Fertility rate, total (births per woman)'),\n",
    "            dcc.RadioItems(\n",
    "                id = 'xaxis-type',\n",
    "                options = [{'label': i, 'value': i} for i in ['线性', '日志']],\n",
    "                value = '线性',\n",
    "                labelStyle = dict(display = 'inline-block'))],\n",
    "            style = dict(width = '48%', display = 'inline-block')\n",
    "        ),\n",
    "        html.Div([\n",
    "            dcc.Dropdown(\n",
    "                id = 'yaxis-column',\n",
    "                options = [{'label': i, 'value': i} for i in df['Indicator Name'].unique()],\n",
    "                value = 'Life expectancy at birth, total (years)'),\n",
    "            dcc.RadioItems(\n",
    "                id = 'yaxis-type',\n",
    "                options = [{'label': i, 'value': i} for i in ['线性', '日志']],\n",
    "                value = '线性',\n",
    "                labelStyle = dict(display = 'inline-block'))],\n",
    "            style = dict(width = '48%', float = 'right', display = 'inline-block')\n",
    "        )\n",
    "    ]),\n",
    "    dcc.Graph(id = 'indicator-graphic'),\n",
    "    dcc.Slider(\n",
    "        id = 'year--slider',\n",
    "        min = df['Year'].min(),\n",
    "        max = df['Year'].max(),\n",
    "        value = df['Year'].max(),\n",
    "        marks = {str(year): str(year) for year in df['Year'].unique()},\n",
    "        step = None\n",
    "    ) \n",
    "])\n",
    "\n",
    "# 回调\n",
    "@app.callback(\n",
    "    Output('indicator-graphic', 'figure'),\n",
    "    [Input('xaxis-column', 'value'),\n",
    "     Input('yaxis-column', 'value'),\n",
    "     Input('xaxis-type', 'value'),\n",
    "     Input('yaxis-type', 'value'),\n",
    "     Input('year--slider', 'value')])\n",
    "def update_graph(xaxis_column_name, yaxis_column_name, xaxis_type, yaxis_type, year_value):\n",
    "    dff = df[df['Year'] == year_value]\n",
    "    result = dict(\n",
    "        data = [go.Scatter(\n",
    "            x = dff[dff['Indicator Name'] == xaxis_column_name]['Value'],\n",
    "            y = dff[dff['Indicator Name'] == yaxis_column_name]['Value'],\n",
    "            text = dff[dff['Indicator Name'] == yaxis_column_name]['Country Name'],\n",
    "            mode = 'markers',\n",
    "            marker = {'size': 15, 'opacity': 0.5, 'line': {'width': 0.5, 'color': 'white'}}\n",
    "        )],\n",
    "        layout = go.Layout(\n",
    "            xaxis = dict(title = xaxis_column_name, type = 'linear' if xaxis_type == '线性' else '日志'),\n",
    "            yaxis = dict(title = yaxis_column_name, type = 'linear' if yaxis_type == '线性' else '日志'),\n",
    "            margin = {'l': 40, 'b': 40, 't': 10, 'r': 0},\n",
    "            hovermode = 'closest'\n",
    "        )\n",
    "    )\n",
    "    return result\n",
    "\n",
    "app"
   ]
  },
  {
   "cell_type": "code",
   "execution_count": 5,
   "metadata": {},
   "outputs": [
    {
     "data": {
      "text/html": [
       "<div>\n",
       "  <iframe src=\"/app/endpoints/c999631719d946439d97e09f578ced08/\" width=800 height=600 frameborder=\"0\"></iframe>\n",
       "  <hr/><a href=\"/app/endpoints/c999631719d946439d97e09f578ced08/\" target=\"_new\">Open in new window</a> for /app/endpoints/c999631719d946439d97e09f578ced08/\n",
       "</div>"
      ],
      "text/plain": [
       "<jupyter_plotly_dash.dash_wrapper.JupyterDash at 0x1dbfd58cba8>"
      ]
     },
     "execution_count": 5,
     "metadata": {},
     "output_type": "execute_result"
    }
   ],
   "source": [
    "app = JupyterDash('many output')\n",
    "app.layout = html.Div([\n",
    "    dcc.RadioItems(\n",
    "        id = 'button-a',\n",
    "        options = [{'label': i, 'value': i} for i in ['北京', '天津', '上海']],\n",
    "        value = '北京'),\n",
    "    html.Div(id = 'output-a'),\n",
    "    \n",
    "    dcc.RadioItems(\n",
    "        id = 'button-b',\n",
    "        options = [{'label': i, 'value': i} for i in ['东城区', '西城区', '朝阳区']],\n",
    "        value = '朝阳区'),\n",
    "    html.Div(id = 'output-b')\n",
    "])\n",
    "\n",
    "@app.callback(\n",
    "    Output('output-a', 'children'),\n",
    "    [Input('button-a', 'value')]\n",
    ")\n",
    "def callback_a(button_value):\n",
    "    return f\"已选中{button_value}\"\n",
    "\n",
    "@app.callback(\n",
    "    Output('output-b', 'children'),\n",
    "    [Input('button-b', 'value')]\n",
    ")\n",
    "def callback_a(button_value):\n",
    "    return f\"已选中{button_value}\"\n",
    "\n",
    "app"
   ]
  },
  {
   "cell_type": "code",
   "execution_count": 70,
   "metadata": {},
   "outputs": [
    {
     "data": {
      "text/html": [
       "<div>\n",
       "  <iframe src=\"/app/endpoints/7e77e3de914e4df0b69ee42ac112c32d/\" width=800 height=600 frameborder=\"0\"></iframe>\n",
       "  <hr/><a href=\"/app/endpoints/7e77e3de914e4df0b69ee42ac112c32d/\" target=\"_new\">Open in new window</a> for /app/endpoints/7e77e3de914e4df0b69ee42ac112c32d/\n",
       "</div>"
      ],
      "text/plain": [
       "<jupyter_plotly_dash.dash_wrapper.JupyterDash at 0x220af4eb2e8>"
      ]
     },
     "execution_count": 70,
     "metadata": {},
     "output_type": "execute_result"
    }
   ],
   "source": [
    "app = JupyterDash('Chained Callbacks')\n",
    "all_options = {\n",
    "    '北京': ['东城区', '西城区', '朝阳区'],\n",
    "    '上海': ['黄浦区', '静安区', '普陀区']\n",
    "}\n",
    "\n",
    "app.layout = html.Div([\n",
    "    dcc.RadioItems(\n",
    "        id = 'countries-dropdown',\n",
    "        options = [{'label': k, 'value': k} for k in all_options.keys()],\n",
    "        value = '北京'),\n",
    "    html.Hr(),\n",
    "    dcc.RadioItems(id = 'cities-dropdown'),\n",
    "    html.Hr(),\n",
    "    html.Div(id = 'display-selected-values')\n",
    "])\n",
    "\n",
    "@app.callback(\n",
    "    Output('cities-dropdown', 'options'),\n",
    "    [Input('countries-dropdown', 'value')])\n",
    "def set_cities_options(select_country):\n",
    "    return [{'label': i, 'value': i} for i in all_options[select_country]]\n",
    "\n",
    "@app.callback(\n",
    "    Output('cities-dropdown', 'value'),\n",
    "    [Input('cities-dropdown', 'options')])\n",
    "def set_cities_value(available_options):\n",
    "    \n",
    "    #time.sleep(3)#wait(3)\n",
    "    return available_options[0]['value']\n",
    "\n",
    "@app.callback(\n",
    "    Output('display-selected-values', 'children'),\n",
    "    [Input('countries-dropdown', 'value'),\n",
    "     Input('cities-dropdown', 'value')])\n",
    "def set_display_children(select_country, select_city):\n",
    "    return f\"{select_city}是{select_country}的辖区。\"\n",
    "\n",
    "app"
   ]
  },
  {
   "cell_type": "code",
   "execution_count": 3,
   "metadata": {},
   "outputs": [
    {
     "data": {
      "text/html": [
       "<div>\n",
       "  <iframe src=\"/app/endpoints/07cb3e2bc12846ae9340d86b8da2a9f7/\" width=800 height=350 frameborder=\"0\"></iframe>\n",
       "  \n",
       "</div>"
      ],
      "text/plain": [
       "<jupyter_plotly_dash.dash_wrapper.JupyterDash at 0x220a80c2080>"
      ]
     },
     "execution_count": 3,
     "metadata": {},
     "output_type": "execute_result"
    }
   ],
   "source": [
    "#(六) 日期范围\n",
    "import arrow as ar\n",
    "app = JupyterDash('input', height = 350)\n",
    "app.add_external_link = False\n",
    "app.layout = html.Div([\n",
    "    dcc.DatePickerRange(\n",
    "        id='dt_range',\n",
    "        start_date=ar.get(2019, 1, 1).date(),\n",
    "        end_date_placeholder_text='选择日期',\n",
    "        display_format = 'Y-MM-DD',\n",
    "        month_format = 'Y-MM',\n",
    "        first_day_of_week = 1,\n",
    "        min_date_allowed=ar.get(2010, 1, 1).date(),\n",
    "        max_date_allowed=ar.get(2020, 10, 1).date()\n",
    "    ),\n",
    "    html.Div(id='output-dt')\n",
    "])\n",
    "\n",
    "app"
   ]
  },
  {
   "cell_type": "code",
   "execution_count": 4,
   "metadata": {},
   "outputs": [
    {
     "data": {
      "text/html": [
       "<div>\n",
       "  <iframe src=\"/app/endpoints/dbe1c3d0ac0847d0abe5ca5a8896760b/\" width=800 height=350 frameborder=\"0\"></iframe>\n",
       "  \n",
       "</div>"
      ],
      "text/plain": [
       "<jupyter_plotly_dash.dash_wrapper.JupyterDash at 0x220a8357630>"
      ]
     },
     "execution_count": 4,
     "metadata": {},
     "output_type": "execute_result"
    }
   ],
   "source": [
    "#(七) Markdown\n",
    "app = JupyterDash('input', height = 350)\n",
    "app.add_external_link = False\n",
    "\n",
    "app.layout = html.Div([\n",
    "  dcc.Markdown('''\n",
    "    #### Dash and Markdown\n",
    "\n",
    "    Dash supports [Markdown](http://commonmark.org/help).\n",
    "\n",
    "    Markdown is a simple way to write and format text.\n",
    "    It includes a syntax for things like **bold text** and *italics*,\n",
    "    [links](http://commonmark.org/help), inline `code` snippets, lists,\n",
    "    quotes, and more.\n",
    "    ''')  \n",
    "])\n",
    "\n",
    "app"
   ]
  },
  {
   "cell_type": "code",
   "execution_count": 7,
   "metadata": {},
   "outputs": [
    {
     "data": {
      "text/html": [
       "<div>\n",
       "  <iframe src=\"/app/endpoints/627e360da49b4616881679de66208742/\" width=800 height=350 frameborder=\"0\"></iframe>\n",
       "  \n",
       "</div>"
      ],
      "text/plain": [
       "<jupyter_plotly_dash.dash_wrapper.JupyterDash at 0x220a836e588>"
      ]
     },
     "execution_count": 7,
     "metadata": {},
     "output_type": "execute_result"
    }
   ],
   "source": [
    "#(五) 日期按钮\n",
    "import arrow as ar\n",
    "app = JupyterDash('input', height = 350)\n",
    "app.add_external_link = False\n",
    "\n",
    "app.layout = html.Div([\n",
    "    dcc.DatePickerSingle(\n",
    "        id='dt',\n",
    "        date=time.strftime(\"%Y-%m-%d\", time.localtime()) ,\n",
    "        display_format = 'Y-MM-DD',\n",
    "        month_format = 'Y-MM',\n",
    "        first_day_of_week = 1,\n",
    "        min_date_allowed=ar.get(2019, 1, 1).date(),\n",
    "        max_date_allowed=ar.get(2021, 10, 1).date(),\n",
    "        clearable=True),\n",
    "    html.Div(id='output-dt')\n",
    "])\n",
    "\n",
    "@app.callback(Output('output-dt', 'children'), [Input('dt', 'date')])\n",
    "def update_output(date):\n",
    "    str_prefix = '您已选择 : ' if date else '暂无选择'\n",
    "    str_dt = ar.get(date).format('YYYY-MM-DD') if date else ''\n",
    "    return str_prefix + str_dt\n",
    "    \n",
    "app"
   ]
  },
  {
   "cell_type": "code",
   "execution_count": 8,
   "metadata": {},
   "outputs": [
    {
     "data": {
      "text/html": [
       "<div>\n",
       "  <iframe src=\"/app/endpoints/a77876c5ef094e37b2d0d028a535455e/\" width=800 height=120 frameborder=\"0\"></iframe>\n",
       "  \n",
       "</div>"
      ],
      "text/plain": [
       "<jupyter_plotly_dash.dash_wrapper.JupyterDash at 0x220aa03c080>"
      ]
     },
     "execution_count": 8,
     "metadata": {},
     "output_type": "execute_result"
    }
   ],
   "source": [
    "app = JupyterDash('input', height = 120)\n",
    "app.add_external_link = False\n",
    "app.layout = html.Div([\n",
    "    html.Button('Buttons', id = 'button'),\n",
    "    html.Div(id = 'output-id')\n",
    "])\n",
    "\n",
    "@app.callback(Output('output-id', 'children'), [Input('button', 'n_clicks')])\n",
    "def update_output(n_clicks):\n",
    "    n_clicks = 0 if not n_clicks else n_clicks\n",
    "    return f\"你已点击按钮了{n_clicks}次\"\n",
    "\n",
    "app"
   ]
  },
  {
   "cell_type": "code",
   "execution_count": 9,
   "metadata": {},
   "outputs": [
    {
     "data": {
      "text/html": [
       "<div>\n",
       "  <iframe src=\"/app/endpoints/1ce9a08f30c44316bb35b36a53550404/\" width=800 height=150 frameborder=\"0\"></iframe>\n",
       "  \n",
       "</div>"
      ],
      "text/plain": [
       "<jupyter_plotly_dash.dash_wrapper.JupyterDash at 0x220aa03c5f8>"
      ]
     },
     "execution_count": 9,
     "metadata": {},
     "output_type": "execute_result"
    }
   ],
   "source": [
    "app = JupyterDash('input', height = 150)\n",
    "app.add_external_link = False\n",
    "app.layout = html.Div([ \n",
    "    dcc.RadioItems(\n",
    "    options=[{'label': '北京', 'value': 'BJ'},\n",
    "             {'label': '上海', 'value': 'SHH'},\n",
    "             {'label': '深圳', 'value': 'SZ'}],\n",
    "    value='BJ',\n",
    "    )\n",
    "])\n",
    "\n",
    "app"
   ]
  },
  {
   "cell_type": "code",
   "execution_count": 10,
   "metadata": {},
   "outputs": [
    {
     "data": {
      "text/html": [
       "<div>\n",
       "  <iframe src=\"/app/endpoints/b7c2ac5d040541a2a757687a961f2f3a/\" width=800 height=150 frameborder=\"0\"></iframe>\n",
       "  \n",
       "</div>"
      ],
      "text/plain": [
       "<jupyter_plotly_dash.dash_wrapper.JupyterDash at 0x220aa03c438>"
      ]
     },
     "execution_count": 10,
     "metadata": {},
     "output_type": "execute_result"
    }
   ],
   "source": [
    "app = JupyterDash('input', height = 150)\n",
    "app.add_external_link = False\n",
    "app.layout = html.Div([ \n",
    "    dcc.Checklist(\n",
    "    options=[{'label': '北京', 'value': 'BJ'},\n",
    "             {'label': '上海', 'value': 'SHH'},\n",
    "             {'label': '深圳', 'value': 'SZ'}],\n",
    "    value=['BJ', 'SZ']\n",
    "    )\n",
    "])\n",
    "\n",
    "app"
   ]
  },
  {
   "cell_type": "code",
   "execution_count": 11,
   "metadata": {},
   "outputs": [
    {
     "data": {
      "text/html": [
       "<div>\n",
       "  <iframe src=\"/app/endpoints/15316aced69f448ba8bac20a1e847b49/\" width=800 height=150 frameborder=\"0\"></iframe>\n",
       "  \n",
       "</div>"
      ],
      "text/plain": [
       "<jupyter_plotly_dash.dash_wrapper.JupyterDash at 0x220aa01aef0>"
      ]
     },
     "execution_count": 11,
     "metadata": {},
     "output_type": "execute_result"
    }
   ],
   "source": [
    "app = JupyterDash('input', height = 150)\n",
    "app.add_external_link = False\n",
    "app.layout = html.Div([\n",
    "    dcc.Textarea(\n",
    "    placeholder='请输入内容...',\n",
    "    value='这是一个多行文本框的组件',\n",
    "    style={'width': '100%'}) \n",
    "])\n",
    "\n",
    "app"
   ]
  },
  {
   "cell_type": "code",
   "execution_count": 12,
   "metadata": {},
   "outputs": [
    {
     "data": {
      "text/html": [
       "<div>\n",
       "  <iframe src=\"/app/endpoints/20afeed85ab34bfdb321b538f98155d0/\" width=800 height=600 frameborder=\"0\"></iframe>\n",
       "  \n",
       "</div>"
      ],
      "text/plain": [
       "<jupyter_plotly_dash.dash_wrapper.JupyterDash at 0x220aa07f208>"
      ]
     },
     "execution_count": 12,
     "metadata": {},
     "output_type": "execute_result"
    }
   ],
   "source": [
    "app = JupyterDash('input', height = 600)\n",
    "app.add_external_link = False\n",
    "app.layout = html.Div([\n",
    "    dcc.Tabs(id = 'tabs', children = [\n",
    "        dcc.Tab(label = 'tab-1', children = [\n",
    "            html.Div([dcc.Graph(\n",
    "                id = 'graph-1',\n",
    "                figure = dict(data = [dict(x = [1, 2, 3], y = [4, 1, 2], type = 'bar', name = 'users'),\n",
    "                                      dict(x = [1, 2, 3], y = [2, 4, 5], type = 'bar', name = 'orders')]))])]),\n",
    "        dcc.Tab(label = 'tab-2', children = [\n",
    "            html.Div([dcc.Graph(\n",
    "                id = 'graph-2',\n",
    "                figure = dict(data = [dict(x = [1, 2, 3], y = [1, 4, 1], type = 'bar', name = 'users'),\n",
    "                                      dict(x = [1, 2, 3], y = [1, 2, 3], type = 'bar', name = 'orders')]))])]),\n",
    "        dcc.Tab(label = 'tab-3', children = [\n",
    "            html.Div([dcc.Graph(\n",
    "                id = 'graph-3',\n",
    "                figure = dict(data = [dict(x = [1, 2, 3], y = [2, 4, 3], type = 'bar', name = 'users'),\n",
    "                                      dict(x = [1, 2, 3], y = [5, 4, 3], type = 'bar', name = 'orders')])\n",
    "            )])\n",
    "        ]),\n",
    "    ])\n",
    "])\n",
    "\n",
    "app"
   ]
  },
  {
   "cell_type": "code",
   "execution_count": 67,
   "metadata": {},
   "outputs": [
    {
     "data": {
      "text/html": [
       "<div>\n",
       "  <iframe src=\"/app/endpoints/4258570586d54be6bc327cab71a4b072/\" width=800 height=600 frameborder=\"0\"></iframe>\n",
       "  \n",
       "</div>"
      ],
      "text/plain": [
       "<jupyter_plotly_dash.dash_wrapper.JupyterDash at 0x220af7e5748>"
      ]
     },
     "execution_count": 67,
     "metadata": {},
     "output_type": "execute_result"
    }
   ],
   "source": [
    "df = pd.read_excel('d:\\\\rep\\\\000002_main_report.xls')\n",
    "app = JupyterDash('input', height = 600)\n",
    "app.add_external_link = False\n",
    "app.layout = html.Div([\n",
    "    html.H2('选项卡示例', style = dict(textAlign='center')),\n",
    "    dcc.Tabs(\n",
    "        id = 'tabs-example',\n",
    "        value = 'tab-1',\n",
    "        children = [dcc.Tab(label = '选项卡一', value = 'tab-1'),\n",
    "                    dcc.Tab(label = '选项卡二', value = 'tab-2')]),\n",
    "    html.Div(id = 'tabs-demo')\n",
    "])\n",
    "\n",
    "@app.callback(Output('tabs-demo', 'children'), [Input('tabs-example', 'value')])\n",
    "def render_content(tab):\n",
    "    if tab == 'tab-1':\n",
    "        return html.Div([\n",
    "            html.H3('内容一'),\n",
    "            dcc.Graph(\n",
    "                id='graph-1-tabs',\n",
    "                figure = dict(data = [dict(x = [1, 2, 3,4], y = [3, 1, 2,6], type = 'bar')])\n",
    "            )\n",
    "        ])\n",
    "    else:\n",
    "        return html.Div([\n",
    "            html.H3('内容二'),\n",
    "            #html.H3(df.columns[0]),\n",
    "            dcc.Graph(\n",
    "                id='graph-2-tabs',\n",
    "                figure = dict(data = [dict(x = df[df.columns[0]][6:10], y = df[df.columns[2]][6:10], type = 'bar', name = df.columns[2]),\n",
    "                                      dict(x = df[df.columns[0]][6:10], y = df[df.columns[6]][6:10], type = 'bar', name = df.columns[6]),\n",
    "                                      dict(x = df[df.columns[0]][6:10], y = df[df.columns[10]][6:10], type = 'bar', name = df.columns[10])])\n",
    "            )\n",
    "        ])\n",
    "\n",
    "app"
   ]
  },
  {
   "cell_type": "code",
   "execution_count": 14,
   "metadata": {},
   "outputs": [
    {
     "data": {
      "text/html": [
       "<div>\n",
       "  <iframe src=\"/app/endpoints/abcf442fc1e6416db53c3e719e58063e/\" width=800 height=150 frameborder=\"0\"></iframe>\n",
       "  \n",
       "</div>"
      ],
      "text/plain": [
       "<jupyter_plotly_dash.dash_wrapper.JupyterDash at 0x220aa08d0b8>"
      ]
     },
     "execution_count": 14,
     "metadata": {},
     "output_type": "execute_result"
    }
   ],
   "source": [
    "app = JupyterDash('input', height = 150)\n",
    "app.add_external_link = False\n",
    "app.layout = html.Div([\n",
    "    dcc.Input(id = 'df', type = 'number', placeholder = '不延迟显示'),\n",
    "    dcc.Input(id = 'dt', type = 'number', debounce = True, placeholder = '延迟显示'),\n",
    "    dcc.Input(id = 'range', type = 'number', placeholder = '范围', min = 10, max = 100, step = 5),\n",
    "    html.Hr(),\n",
    "    html.Div(id = 'number-out')\n",
    "])\n",
    "\n",
    "@app.callback(Output('number-out', 'children'), [Input('df', 'value'), Input('dt', 'value'), Input('range', 'value')])\n",
    "def number_render(fval, tval, rangeval):\n",
    "    return f\"方框1: {fval}， 方框2: {tval}， 方框3: {rangeval}\"\n",
    "\n",
    "app"
   ]
  },
  {
   "cell_type": "code",
   "execution_count": 15,
   "metadata": {},
   "outputs": [
    {
     "data": {
      "text/html": [
       "<div>\n",
       "  <iframe src=\"/app/endpoints/13bc83c63b2948c48b054dd948f17e6c/\" width=800 height=150 frameborder=\"0\"></iframe>\n",
       "  \n",
       "</div>"
      ],
      "text/plain": [
       "<jupyter_plotly_dash.dash_wrapper.JupyterDash at 0x220aa077da0>"
      ]
     },
     "execution_count": 15,
     "metadata": {},
     "output_type": "execute_result"
    }
   ],
   "source": [
    "app = JupyterDash('input', height = 150)\n",
    "app.add_external_link = False\n",
    "app.layout = html.Div([\n",
    "    html.I('尝试分别在两个输入框中输入数据，观察回调中如何延迟显示'),\n",
    "    html.Br(),\n",
    "    html.Br(),\n",
    "    html.I('第2个输入框输入内容后，按下Enter键或鼠标点击非操作区，即可显示内容'),\n",
    "    html.Br(),\n",
    "    html.Br(),\n",
    "    dcc.Input(id = 'input1', type = 'text', placeholder = '北京'),\n",
    "    dcc.Input(id = 'input2', type = 'text', placeholder = '上海', debounce=True),\n",
    "    html.Div(id = 'output')\n",
    "])\n",
    "\n",
    "@app.callback(Output(\"output\", \"children\"), [Input(\"input1\", \"value\"), Input(\"input2\", \"value\")])\n",
    "def update_output(input1, input2):\n",
    "    return f\"输入框 1 输出：{input1}，输入框 2 输出：{input2}\"\n",
    "\n",
    "app"
   ]
  },
  {
   "cell_type": "code",
   "execution_count": 16,
   "metadata": {},
   "outputs": [
    {
     "data": {
      "text/html": [
       "<div>\n",
       "  <iframe src=\"/app/endpoints/298ca9f3e7104f6aa3032d6efdc8b1bf/\" width=800 height=120 frameborder=\"0\"></iframe>\n",
       "  \n",
       "</div>"
      ],
      "text/plain": [
       "<jupyter_plotly_dash.dash_wrapper.JupyterDash at 0x220aa091320>"
      ]
     },
     "execution_count": 16,
     "metadata": {},
     "output_type": "execute_result"
    }
   ],
   "source": [
    "app = JupyterDash('input', height = 120)\n",
    "app.add_external_link = False\n",
    "allowed_types = (\"text\", \"number\", \"password\", \"email\", \"search\", \"tel\", \"url\", \"range\", \"hidden\")\n",
    "app.layout = html.Div([\n",
    "    dcc.Input(\n",
    "        id = f\"input_{t}\",\n",
    "        type = t,\n",
    "        placeholder = f\"input type {t}\") for t in allowed_types]\n",
    "    + [html.Div(id=\"out-all-types\")])\n",
    "\n",
    "@app.callback(Output(\"out-all-types\", \"children\"), [Input(f\"input_{t}\", \"value\") for t in allowed_types])\n",
    "def cb_render(*vals):\n",
    "    return ' ~~ '.join((str(val) for val in vals if val))\n",
    "\n",
    "app"
   ]
  },
  {
   "cell_type": "code",
   "execution_count": 17,
   "metadata": {},
   "outputs": [
    {
     "data": {
      "text/html": [
       "<div>\n",
       "  <iframe src=\"/app/endpoints/8287097b3cfc47538678e8e80ac0f95b/\" width=800 height=120 frameborder=\"0\"></iframe>\n",
       "  \n",
       "</div>"
      ],
      "text/plain": [
       "<jupyter_plotly_dash.dash_wrapper.JupyterDash at 0x220aa02bd30>"
      ]
     },
     "execution_count": 17,
     "metadata": {},
     "output_type": "execute_result"
    }
   ],
   "source": [
    "app = JupyterDash('range_slider', height = 120)\n",
    "app.add_external_link = False\n",
    "app.layout = html.Div([\n",
    "    dcc.RangeSlider(\n",
    "        min=0,\n",
    "        max=30,\n",
    "        value=[10, 15],\n",
    "        allowCross=False)],\n",
    "    style = dict(padding = '5px')\n",
    ")\n",
    "\n",
    "app"
   ]
  },
  {
   "cell_type": "code",
   "execution_count": 18,
   "metadata": {},
   "outputs": [
    {
     "data": {
      "text/html": [
       "<div>\n",
       "  <iframe src=\"/app/endpoints/9d0eb0830281449980f35457a618e856/\" width=800 height=120 frameborder=\"0\"></iframe>\n",
       "  \n",
       "</div>"
      ],
      "text/plain": [
       "<jupyter_plotly_dash.dash_wrapper.JupyterDash at 0x220aa0de160>"
      ]
     },
     "execution_count": 18,
     "metadata": {},
     "output_type": "execute_result"
    }
   ],
   "source": [
    "app = JupyterDash('range_slider', height = 120)\n",
    "app.add_external_link = False\n",
    "app.layout = html.Div([\n",
    "    dcc.RangeSlider(\n",
    "        min=0,\n",
    "        max=30,\n",
    "        value=[8, 10, 15, 17, 20],\n",
    "        pushable=2)],\n",
    "    style = dict(padding = '5px')\n",
    ")\n",
    "\n",
    "app"
   ]
  },
  {
   "cell_type": "code",
   "execution_count": 19,
   "metadata": {},
   "outputs": [
    {
     "data": {
      "text/html": [
       "<div>\n",
       "  <iframe src=\"/app/endpoints/9b0ffd60088e4f248b45deb1198853ea/\" width=800 height=120 frameborder=\"0\"></iframe>\n",
       "  \n",
       "</div>"
      ],
      "text/plain": [
       "<jupyter_plotly_dash.dash_wrapper.JupyterDash at 0x220aa091ac8>"
      ]
     },
     "execution_count": 19,
     "metadata": {},
     "output_type": "execute_result"
    }
   ],
   "source": [
    "app = JupyterDash('range_slider', height = 120)\n",
    "app.add_external_link = False\n",
    "app.layout = html.Div([\n",
    "    dcc.RangeSlider(\n",
    "        min=0,\n",
    "        max=30,\n",
    "        value=[1, 3, 4, 5, 12, 17])],\n",
    "    style = dict(padding = '5px')\n",
    ")\n",
    "\n",
    "app"
   ]
  },
  {
   "cell_type": "code",
   "execution_count": 20,
   "metadata": {},
   "outputs": [
    {
     "data": {
      "text/html": [
       "<div>\n",
       "  <iframe src=\"/app/endpoints/19c2aa1dd15947328f89c8473c7ab401/\" width=800 height=120 frameborder=\"0\"></iframe>\n",
       "  \n",
       "</div>"
      ],
      "text/plain": [
       "<jupyter_plotly_dash.dash_wrapper.JupyterDash at 0x220aa0f36d8>"
      ]
     },
     "execution_count": 20,
     "metadata": {},
     "output_type": "execute_result"
    }
   ],
   "source": [
    "app = JupyterDash('range_slider', height = 120)\n",
    "app.add_external_link = False\n",
    "app.layout = html.Div([\n",
    "    dcc.RangeSlider(\n",
    "        min = 0, \n",
    "        max = 100,\n",
    "        value = [10, 65],\n",
    "        included=False,\n",
    "        marks = {\n",
    "            0: {'label': '0 °C', 'style': {'color': '#77b0b1'}},\n",
    "            26: {'label': '26 °C'},\n",
    "            37: {'label': '37 °C'},\n",
    "            100: {'label': '100 °C', 'style': {'color': '#f50'}}\n",
    "        })],\n",
    "    style = dict(padding = '5px')\n",
    ")\n",
    "\n",
    "app"
   ]
  },
  {
   "cell_type": "code",
   "execution_count": 24,
   "metadata": {},
   "outputs": [
    {
     "data": {
      "text/html": [
       "<div>\n",
       "  <iframe src=\"/app/endpoints/10fdaff78f934cb997ec6079981e530b/\" width=800 height=120 frameborder=\"0\"></iframe>\n",
       "  \n",
       "</div>"
      ],
      "text/plain": [
       "<jupyter_plotly_dash.dash_wrapper.JupyterDash at 0x220aa0fea58>"
      ]
     },
     "execution_count": 24,
     "metadata": {},
     "output_type": "execute_result"
    }
   ],
   "source": [
    "app = JupyterDash('range_slider', height = 120)\n",
    "app.add_external_link = False\n",
    "app.layout = html.Div([\n",
    "    dcc.RangeSlider(\n",
    "        min = 0,\n",
    "        max = 10,\n",
    "        step = None,\n",
    "        marks = {0: '0 °F', 3: '3 °F', 5: '5 °F', 7.65: '7.65 °F', 10: '10 °F'},\n",
    "        value = [3, 7.65]\n",
    "    )],\n",
    "    style = dict(padding = '15px'),\n",
    ")\n",
    "\n",
    "app"
   ]
  },
  {
   "cell_type": "code",
   "execution_count": 25,
   "metadata": {},
   "outputs": [
    {
     "data": {
      "text/html": [
       "<div>\n",
       "  <iframe src=\"/app/endpoints/a2ce82b6b76448489dd40a46fb733be8/\" width=800 height=120 frameborder=\"0\"></iframe>\n",
       "  \n",
       "</div>"
      ],
      "text/plain": [
       "<jupyter_plotly_dash.dash_wrapper.JupyterDash at 0x220aa0f3e80>"
      ]
     },
     "execution_count": 25,
     "metadata": {},
     "output_type": "execute_result"
    }
   ],
   "source": [
    "app = JupyterDash('range_slider', height = 120)\n",
    "app.add_external_link = False\n",
    "app.layout = html.Div([\n",
    "    dcc.RangeSlider(\n",
    "        id = 'my-range-slider',\n",
    "        min = 0,\n",
    "        max = 20,\n",
    "        step = 0.5,\n",
    "        value = [5, 15]),\n",
    "    html.Div(id = 'output-container-range-slider')\n",
    "])\n",
    "\n",
    "@app.callback(Output('output-container-range-slider', 'children'), [Input('my-range-slider', 'value')])\n",
    "def update_output(value):\n",
    "    return f\"你选择的范围：{value}\"\n",
    "\n",
    "app"
   ]
  },
  {
   "cell_type": "code",
   "execution_count": 26,
   "metadata": {},
   "outputs": [
    {
     "data": {
      "text/html": [
       "<div>\n",
       "  <iframe src=\"/app/endpoints/a1198138e629488484f5e3d80bd0432a/\" width=800 height=120 frameborder=\"0\"></iframe>\n",
       "  \n",
       "</div>"
      ],
      "text/plain": [
       "<jupyter_plotly_dash.dash_wrapper.JupyterDash at 0x220aa08d400>"
      ]
     },
     "execution_count": 26,
     "metadata": {},
     "output_type": "execute_result"
    }
   ],
   "source": [
    "app = JupyterDash('slider', height = 120)\n",
    "app.add_external_link = False\n",
    "app.layout = html.Div([\n",
    "    dcc.Slider(\n",
    "        id = 'slider-updatemode',\n",
    "        max = 3, \n",
    "        step = 0.01,\n",
    "        value = 2,\n",
    "        updatemode = 'drag',\n",
    "        marks = {i: f\"{str(10 ** i)}\" for i in range(4)}),\n",
    "    html.Div(id = 'updatemode-output-container', style = dict(marginTop = 20,))],\n",
    "    style = dict(padding = '5px'))\n",
    "\n",
    "@app.callback(Output('updatemode-output-container', 'children'), [Input('slider-updatemode', 'value')])\n",
    "def display_value(value):\n",
    "    return f\"线性值：{value} | 对数值：{value ** 10}\"\n",
    "\n",
    "app"
   ]
  },
  {
   "cell_type": "code",
   "execution_count": 27,
   "metadata": {},
   "outputs": [
    {
     "data": {
      "text/html": [
       "<div>\n",
       "  <iframe src=\"/app/endpoints/63fc2afc0c824f49b4fc153bb528fcfb/\" width=800 height=120 frameborder=\"0\"></iframe>\n",
       "  \n",
       "</div>"
      ],
      "text/plain": [
       "<jupyter_plotly_dash.dash_wrapper.JupyterDash at 0x220aa12a128>"
      ]
     },
     "execution_count": 27,
     "metadata": {},
     "output_type": "execute_result"
    }
   ],
   "source": [
    "app = JupyterDash('slider', height = 120)\n",
    "app.add_external_link = False\n",
    "app.layout = html.Div([\n",
    "    dcc.Slider(\n",
    "        min = 0, \n",
    "        max = 100,\n",
    "        value = 65,\n",
    "        included=False,\n",
    "        marks = {\n",
    "            0: {'label': '0 °C', 'style': {'color': '#77b0b1'}},\n",
    "            26: {'label': '26 °C'},\n",
    "            37: {'label': '37 °C'},\n",
    "            100: {'label': '100 °C', 'style': {'color': '#f50'}}\n",
    "        })],\n",
    "    style = dict(padding = '5px')\n",
    ")\n",
    "\n",
    "app"
   ]
  },
  {
   "cell_type": "code",
   "execution_count": 28,
   "metadata": {},
   "outputs": [
    {
     "data": {
      "text/html": [
       "<div>\n",
       "  <iframe src=\"/app/endpoints/6be6863b433e429a89a35a28b717e6cb/\" width=800 height=120 frameborder=\"0\"></iframe>\n",
       "  <hr/><a href=\"/app/endpoints/6be6863b433e429a89a35a28b717e6cb/\" target=\"_new\">Open in new window</a> for /app/endpoints/6be6863b433e429a89a35a28b717e6cb/\n",
       "</div>"
      ],
      "text/plain": [
       "<jupyter_plotly_dash.dash_wrapper.JupyterDash at 0x220aa03cc88>"
      ]
     },
     "execution_count": 28,
     "metadata": {},
     "output_type": "execute_result"
    }
   ],
   "source": [
    "app = JupyterDash('slider', height = 120)\n",
    "app.layout = html.Div([\n",
    "    dcc.Slider(\n",
    "        min = 0,\n",
    "        max = 10,\n",
    "        step = None,\n",
    "        marks = {0: '0 °F', 3: '3 °F', 5: '5 °F', 7.65: '7.65 °F', 10: '10 °F'},\n",
    "        value = 7.65\n",
    "    )],\n",
    "    style = dict(padding = '5px'),\n",
    ")\n",
    "\n",
    "app"
   ]
  },
  {
   "cell_type": "code",
   "execution_count": 29,
   "metadata": {},
   "outputs": [
    {
     "data": {
      "text/html": [
       "<div>\n",
       "  <iframe src=\"/app/endpoints/30777582696440c482c72a256d2e9c4f/\" width=800 height=120 frameborder=\"0\"></iframe>\n",
       "  <hr/><a href=\"/app/endpoints/30777582696440c482c72a256d2e9c4f/\" target=\"_new\">Open in new window</a> for /app/endpoints/30777582696440c482c72a256d2e9c4f/\n",
       "</div>"
      ],
      "text/plain": [
       "<jupyter_plotly_dash.dash_wrapper.JupyterDash at 0x220a836a550>"
      ]
     },
     "execution_count": 29,
     "metadata": {},
     "output_type": "execute_result"
    }
   ],
   "source": [
    "app = JupyterDash('slider', height = 120)\n",
    "\n",
    "app.layout = html.Div([\n",
    "    dcc.Slider(\n",
    "        id = 'my-slider',\n",
    "        min = 0,\n",
    "        max = 20,\n",
    "        step = 0.5,\n",
    "        value = 10),\n",
    "    html.Div(id = 'slider-output-container')\n",
    "])\n",
    "\n",
    "@app.callback(Output('slider-output-container', 'children'), [Input('my-slider', 'value')])\n",
    "def update_output(value):\n",
    "    return f\"你已选择到：{value}\"\n",
    "\n",
    "app"
   ]
  },
  {
   "cell_type": "code",
   "execution_count": 30,
   "metadata": {},
   "outputs": [
    {
     "data": {
      "text/html": [
       "<div>\n",
       "  <iframe src=\"/app/endpoints/0bc6856666d84de5b5e1be3ad3d28ce6/\" width=800 height=150 frameborder=\"0\"></iframe>\n",
       "  <hr/><a href=\"/app/endpoints/0bc6856666d84de5b5e1be3ad3d28ce6/\" target=\"_new\">Open in new window</a> for /app/endpoints/0bc6856666d84de5b5e1be3ad3d28ce6/\n",
       "</div>"
      ],
      "text/plain": [
       "<jupyter_plotly_dash.dash_wrapper.JupyterDash at 0x220aa0b6518>"
      ]
     },
     "execution_count": 30,
     "metadata": {},
     "output_type": "execute_result"
    }
   ],
   "source": [
    "app = JupyterDash('dropdown01', height = 150)\n",
    "app.layout = html.Div([\n",
    "    dcc.Dropdown(\n",
    "        id = 'my_dropdown',\n",
    "        options = [{'label': '北京', 'value': '北京'}, \n",
    "                   {'label': '上海', 'value': '上海', 'disabled': True}, \n",
    "                   {'label': '深圳', 'value': '深圳'}],\n",
    "        value = '北京'),\n",
    "    html.Div(id = 'output-01')\n",
    "])\n",
    "\n",
    "@app.callback(Output('output-01', 'children'), [Input('my_dropdown', 'value')])\n",
    "def update_output(value):\n",
    "    return f\"您已经选择：【{value}】\"\n",
    "\n",
    "app"
   ]
  },
  {
   "cell_type": "code",
   "execution_count": 34,
   "metadata": {},
   "outputs": [
    {
     "data": {
      "text/html": [
       "<div>\n",
       "  <iframe src=\"/app/endpoints/cd65f9edf95f45dcada8b63a7e2b736f/\" width=800 height=120 frameborder=\"0\"></iframe>\n",
       "  <hr/><a href=\"/app/endpoints/cd65f9edf95f45dcada8b63a7e2b736f/\" target=\"_new\">Open in new window</a> for /app/endpoints/cd65f9edf95f45dcada8b63a7e2b736f/\n",
       "</div>"
      ],
      "text/plain": [
       "<jupyter_plotly_dash.dash_wrapper.JupyterDash at 0x220aa134630>"
      ]
     },
     "execution_count": 34,
     "metadata": {},
     "output_type": "execute_result"
    }
   ],
   "source": [
    "app = JupyterDash('dropdown01', height = 120)\n",
    "app.layout = html.Div([\n",
    "    dcc.Dropdown(\n",
    "        id = 'my_dropdown',\n",
    "        options = [{'label': '北京', 'value': '北京'}, \n",
    "                   {'label': '上海', 'value': '上海'}, \n",
    "                   {'label': '深圳', 'value': '深圳'}],\n",
    "        disabled = True),\n",
    "    html.Div(id = 'output-01')\n",
    "])\n",
    "\n",
    "@app.callback(Output('output-01', 'children'), [Input('my_dropdown', 'value')])\n",
    "def update_output(value):\n",
    "    pass\n",
    "\n",
    "app"
   ]
  },
  {
   "cell_type": "code",
   "execution_count": 32,
   "metadata": {},
   "outputs": [
    {
     "data": {
      "text/html": [
       "<div>\n",
       "  <iframe src=\"/app/endpoints/ccfceaa30f2a46bcbdb2814d03d2c67c/\" width=800 height=120 frameborder=\"0\"></iframe>\n",
       "  <hr/><a href=\"/app/endpoints/ccfceaa30f2a46bcbdb2814d03d2c67c/\" target=\"_new\">Open in new window</a> for /app/endpoints/ccfceaa30f2a46bcbdb2814d03d2c67c/\n",
       "</div>"
      ],
      "text/plain": [
       "<jupyter_plotly_dash.dash_wrapper.JupyterDash at 0x220aa077320>"
      ]
     },
     "execution_count": 32,
     "metadata": {},
     "output_type": "execute_result"
    }
   ],
   "source": [
    "app = JupyterDash('dropdown01', height = 120)\n",
    "app.layout = html.Div([\n",
    "    dcc.Dropdown(\n",
    "        id = 'my_dropdown',\n",
    "        options = [{'label': '北京', 'value': '北京'}, \n",
    "                   {'label': '上海', 'value': '上海'}, \n",
    "                   {'label': '深圳', 'value': '深圳'}],\n",
    "        placeholder = '选择一个城市名称'),\n",
    "    html.Div(id = 'output-01')\n",
    "])\n",
    "\n",
    "@app.callback(Output('output-01', 'children'), [Input('my_dropdown', 'value')])\n",
    "def update_output(value):\n",
    "    pass\n",
    "\n",
    "app"
   ]
  },
  {
   "cell_type": "code",
   "execution_count": 36,
   "metadata": {},
   "outputs": [
    {
     "data": {
      "text/html": [
       "<div>\n",
       "  <iframe src=\"/app/endpoints/a2e98e3bdeb344089d4ebf719d0f0c09/\" width=800 height=120 frameborder=\"0\"></iframe>\n",
       "  <hr/><a href=\"/app/endpoints/a2e98e3bdeb344089d4ebf719d0f0c09/\" target=\"_new\">Open in new window</a> for /app/endpoints/a2e98e3bdeb344089d4ebf719d0f0c09/\n",
       "</div>"
      ],
      "text/plain": [
       "<jupyter_plotly_dash.dash_wrapper.JupyterDash at 0x220aa32cba8>"
      ]
     },
     "execution_count": 36,
     "metadata": {},
     "output_type": "execute_result"
    }
   ],
   "source": [
    "app = JupyterDash('dropdown01', height = 120)\n",
    "app.layout = html.Div([\n",
    "    dcc.Dropdown(\n",
    "        id = 'my_dropdown',\n",
    "        options = [{'label': '北京', 'value': '北京'}, \n",
    "                   {'label': '上海', 'value': '上海'}, \n",
    "                   {'label': '深圳', 'value': '深圳'}],\n",
    "        value = '北京',\n",
    "        clearable = False),\n",
    "    html.Div(id = 'output-01')\n",
    "])\n",
    "\n",
    "@app.callback(Output('output-01', 'children'), [Input('my_dropdown', 'value')])\n",
    "def update_output(value):\n",
    "    return f\"您已经选择：【{value}】\"\n",
    "\n",
    "app"
   ]
  },
  {
   "cell_type": "code",
   "execution_count": 40,
   "metadata": {},
   "outputs": [
    {
     "data": {
      "text/html": [
       "<div>\n",
       "  <iframe src=\"/app/endpoints/da2cc9890c6f4744844de87640fbe445/\" width=800 height=120 frameborder=\"0\"></iframe>\n",
       "  <hr/><a href=\"/app/endpoints/da2cc9890c6f4744844de87640fbe445/\" target=\"_new\">Open in new window</a> for /app/endpoints/da2cc9890c6f4744844de87640fbe445/\n",
       "</div>"
      ],
      "text/plain": [
       "<jupyter_plotly_dash.dash_wrapper.JupyterDash at 0x220aa13d668>"
      ]
     },
     "execution_count": 40,
     "metadata": {},
     "output_type": "execute_result"
    }
   ],
   "source": [
    "app = JupyterDash('dropdown01', height = 120)\n",
    "app.layout = html.Div([\n",
    "    dcc.Dropdown(\n",
    "        id = 'my_dropdown',\n",
    "        options = [{'label': '北京', 'value': '北京'}, \n",
    "                   {'label': '上海', 'value': '上海'}, \n",
    "                   {'label': '深圳', 'value': '深圳'}],\n",
    "        searchable=False),\n",
    "    html.Div(id = 'output-01')\n",
    "])\n",
    "\n",
    "@app.callback(Output('output-01', 'children'), [Input('my_dropdown', 'value')])\n",
    "def update_output(value):\n",
    "    pass\n",
    "\n",
    "app"
   ]
  },
  {
   "cell_type": "code",
   "execution_count": 38,
   "metadata": {},
   "outputs": [
    {
     "data": {
      "text/html": [
       "<div>\n",
       "  <iframe src=\"/app/endpoints/16f18a5376234ceaa3982994a2bd02d8/\" width=800 height=120 frameborder=\"0\"></iframe>\n",
       "  <hr/><a href=\"/app/endpoints/16f18a5376234ceaa3982994a2bd02d8/\" target=\"_new\">Open in new window</a> for /app/endpoints/16f18a5376234ceaa3982994a2bd02d8/\n",
       "</div>"
      ],
      "text/plain": [
       "<jupyter_plotly_dash.dash_wrapper.JupyterDash at 0x220aa0defd0>"
      ]
     },
     "execution_count": 38,
     "metadata": {},
     "output_type": "execute_result"
    }
   ],
   "source": [
    "app = JupyterDash('dropdown01', height = 120)\n",
    "app.layout = html.Div([\n",
    "    dcc.Dropdown(\n",
    "        id = 'my_dropdown',\n",
    "        options = [{'label': '北京', 'value': '北京'}, \n",
    "                   {'label': '上海', 'value': '上海'}, \n",
    "                   {'label': '深圳', 'value': '深圳'}],\n",
    "        value = ['北京', '上海'],\n",
    "        multi = True),\n",
    "    html.Div(id = 'output-01')\n",
    "])\n",
    "\n",
    "@app.callback(Output('output-01', 'children'), [Input('my_dropdown', 'value')])\n",
    "def update_output(value):\n",
    "    return f\"您已经选择：【{'、'.join([val for val in value])}】\"\n",
    "\n",
    "app"
   ]
  },
  {
   "cell_type": "code",
   "execution_count": 41,
   "metadata": {},
   "outputs": [
    {
     "data": {
      "text/html": [
       "<div>\n",
       "  <iframe src=\"/app/endpoints/aa34a4d85b05453d8035edd0cb2805fa/\" width=800 height=120 frameborder=\"0\"></iframe>\n",
       "  <hr/><a href=\"/app/endpoints/aa34a4d85b05453d8035edd0cb2805fa/\" target=\"_new\">Open in new window</a> for /app/endpoints/aa34a4d85b05453d8035edd0cb2805fa/\n",
       "</div>"
      ],
      "text/plain": [
       "<jupyter_plotly_dash.dash_wrapper.JupyterDash at 0x220aaa9ac18>"
      ]
     },
     "execution_count": 41,
     "metadata": {},
     "output_type": "execute_result"
    }
   ],
   "source": [
    "app = JupyterDash('dropdown01', height = 120)\n",
    "app.layout = html.Div([\n",
    "    dcc.Dropdown(\n",
    "        id = 'my_dropdown',\n",
    "        options = [{'label': '北京', 'value': '北京'}, \n",
    "                   {'label': '上海', 'value': '上海'}, \n",
    "                   {'label': '深圳', 'value': '深圳'}],\n",
    "        value = '北京'),\n",
    "    html.Div(id = 'output-01')\n",
    "])\n",
    "\n",
    "@app.callback(Output('output-01', 'children'), [Input('my_dropdown', 'value')])\n",
    "def update_output(value):\n",
    "    return f\"您已经选择：【{value}】\"\n",
    "\n",
    "app"
   ]
  },
  {
   "cell_type": "code",
   "execution_count": 5,
   "metadata": {},
   "outputs": [
    {
     "data": {
      "image/png": "[encoded data removed]",
      "text/plain": [
       "<Figure size 432x288 with 1 Axes>"
      ]
     },
     "metadata": {
      "needs_background": "light"
     },
     "output_type": "display_data"
    }
   ],
   "source": [
    "import matplotlib.pyplot as plt \n",
    "import matplotlib.animation as animation  \n",
    "fig, ax = plt.subplots() \n",
    "x, y, tmp = [], [], []  \n",
    "for i in range(10):\n",
    "    x.append(i)\n",
    "    y.append(i+1)\n",
    "    temp = ax.bar(x, height=y, width=0.3)\n",
    "    tmp.append(temp)\n",
    "ani = animation.ArtistAnimation(fig, tmp, interval=200, repeat_delay=1000) \n",
    "ani.save(\"bar.gif\", writer='pillow') \n",
    "\n"
   ]
  },
  {
   "cell_type": "code",
   "execution_count": null,
   "metadata": {},
   "outputs": [],
   "source": []
  }
 ],
 "metadata": {
  "kernelspec": {
   "display_name": "Python 3 (ipykernel)",
   "language": "python",
   "name": "python3"
  },
  "language_info": {
   "codemirror_mode": {
    "name": "ipython",
    "version": 3
   },
   "file_extension": ".py",
   "mimetype": "text/x-python",
   "name": "python",
   "nbconvert_exporter": "python",
   "pygments_lexer": "ipython3",
   "version": "3.7.0"
  }
 },
 "nbformat": 4,
 "nbformat_minor": 2
}
